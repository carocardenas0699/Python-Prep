{
 "cells": [
  {
   "attachments": {},
   "cell_type": "markdown",
   "metadata": {},
   "source": [
    "## Funciones"
   ]
  },
  {
   "attachments": {},
   "cell_type": "markdown",
   "metadata": {},
   "source": [
    "1) Crear una función que reciba un número como parámetro y devuelva True si es primo y False si no lo es"
   ]
  },
  {
   "cell_type": "code",
   "execution_count": 31,
   "metadata": {},
   "outputs": [],
   "source": [
    "def prim(nu):\n",
    " \n",
    "    p=True\n",
    "    for i in range(2,nu):\n",
    "\n",
    "        a=nu%i\n",
    "\n",
    "        if a==0:\n",
    "            p=False\n",
    "            break\n",
    "\n",
    "    return p\n",
    "\n"
   ]
  },
  {
   "cell_type": "code",
   "execution_count": 32,
   "metadata": {},
   "outputs": [
    {
     "name": "stdout",
     "output_type": "stream",
     "text": [
      "1  es primo? True\n",
      "2  es primo? True\n",
      "3  es primo? True\n",
      "4  es primo? False\n",
      "5  es primo? True\n",
      "6  es primo? False\n",
      "7  es primo? True\n",
      "8  es primo? False\n",
      "9  es primo? False\n",
      "10  es primo? False\n",
      "11  es primo? True\n",
      "12  es primo? False\n",
      "13  es primo? True\n",
      "14  es primo? False\n",
      "15  es primo? False\n",
      "16  es primo? False\n",
      "17  es primo? True\n",
      "18  es primo? False\n",
      "19  es primo? True\n",
      "20  es primo? False\n",
      "21  es primo? False\n",
      "22  es primo? False\n",
      "23  es primo? True\n",
      "24  es primo? False\n",
      "25  es primo? False\n",
      "26  es primo? False\n",
      "27  es primo? False\n",
      "28  es primo? False\n",
      "29  es primo? True\n"
     ]
    }
   ],
   "source": [
    "for i in range(1,30):\n",
    "\n",
    "    print(i, ' es primo?',prim(i))"
   ]
  },
  {
   "attachments": {},
   "cell_type": "markdown",
   "metadata": {},
   "source": [
    "2) Utilizando la función del punto 1, realizar otra función que reciba de parámetro una lista de números y devuelva sólo aquellos que son primos en otra lista"
   ]
  },
  {
   "cell_type": "code",
   "execution_count": 33,
   "metadata": {},
   "outputs": [],
   "source": [
    "def esc_prim(lista):\n",
    "\n",
    "    lp=list()\n",
    "\n",
    "    for i in lista:\n",
    "        p=prim(i)\n",
    "\n",
    "        if p:\n",
    "            lp.append(i)\n",
    "\n",
    "    return lp\n",
    "\n"
   ]
  },
  {
   "cell_type": "code",
   "execution_count": 34,
   "metadata": {},
   "outputs": [
    {
     "data": {
      "text/plain": [
       "[1, 2, 3, 5, 7, 11, 13, 17, 19]"
      ]
     },
     "execution_count": 34,
     "metadata": {},
     "output_type": "execute_result"
    }
   ],
   "source": [
    "a=[1,2,3,4,5,6,7,8,9,10,11,12,13,14,15,16,17,18,19]\n",
    "\n",
    "esc_prim(a)"
   ]
  },
  {
   "attachments": {},
   "cell_type": "markdown",
   "metadata": {},
   "source": [
    "3) Crear una función que al recibir una lista de números, devuelva el que más se repite y cuántas veces lo hace. Si hay más de un \"más repetido\", que devuelva cualquiera"
   ]
  },
  {
   "cell_type": "code",
   "execution_count": 38,
   "metadata": {},
   "outputs": [],
   "source": [
    "def mas_rep(lista):\n",
    "\n",
    "    lista_unicos = []\n",
    "    lista_repeticiones = []\n",
    "\n",
    "    for elemento in lista:\n",
    "        if elemento in lista_unicos:\n",
    "            i = lista_unicos.index(elemento)\n",
    "            lista_repeticiones[i] += 1\n",
    "        else:\n",
    "            lista_unicos.append(elemento)\n",
    "            lista_repeticiones.append(1)\n",
    "\n",
    "    mx=max(lista_repeticiones)\n",
    "    p=lista_repeticiones.index(mx)\n",
    "    num=lista_unicos[p]\n",
    "\n",
    "    return num,mx\n",
    "                \n",
    "\n"
   ]
  },
  {
   "cell_type": "code",
   "execution_count": 40,
   "metadata": {},
   "outputs": [
    {
     "data": {
      "text/plain": [
       "(2, 5)"
      ]
     },
     "execution_count": 40,
     "metadata": {},
     "output_type": "execute_result"
    }
   ],
   "source": [
    "mas_rep([2,3,5,2,2,2,2,3,1,3,4,3,5])"
   ]
  },
  {
   "attachments": {},
   "cell_type": "markdown",
   "metadata": {},
   "source": [
    "4) Crear una función que convierta entre grados Celsius, Farenheit y Kelvin<br>\n",
    "Fórmula 1\t: (°C × 9/5) + 32 = °F<br>\n",
    "Fórmula 2\t: °C + 273.15 = °K<br>\n",
    "Debe recibir 3 parámetros: el valor, la medida de orígen y la medida de destino\n"
   ]
  },
  {
   "cell_type": "code",
   "execution_count": 54,
   "metadata": {},
   "outputs": [],
   "source": [
    "def temp(t,uo,ud):\n",
    "\n",
    "    if uo == 'c' and ud =='f':\n",
    "        tf = 32+(t*(9/5))\n",
    "    elif uo == 'c' and ud == 'k':\n",
    "        tf = t + 273.15\n",
    "    elif uo == 'k' and ud == 'f':\n",
    "        tf = temp(temp(t,'k','c'),'c','f')\n",
    "    elif uo == 'f' and ud == 'k':\n",
    "        tf = temp(temp(t,'f','c'),'c','k')\n",
    "    elif uo == 'k' and ud == 'c':\n",
    "        tf = t-273.15\n",
    "    elif uo == 'f' and ud == 'c':\n",
    "        tf = (t - 32)*(5/9)\n",
    "    return tf\n",
    "    "
   ]
  },
  {
   "cell_type": "code",
   "execution_count": 60,
   "metadata": {},
   "outputs": [
    {
     "data": {
      "text/plain": [
       "2.7777777777777777"
      ]
     },
     "execution_count": 60,
     "metadata": {},
     "output_type": "execute_result"
    }
   ],
   "source": [
    "temp(37,'f','c')"
   ]
  },
  {
   "attachments": {},
   "cell_type": "markdown",
   "metadata": {},
   "source": [
    "5) Iterando una lista con los tres valores posibles de temperatura que recibe la función del punto 5, hacer un print para cada combinación de los mismos:"
   ]
  },
  {
   "cell_type": "code",
   "execution_count": 63,
   "metadata": {},
   "outputs": [
    {
     "name": "stdout",
     "output_type": "stream",
     "text": [
      "1 grado  c  = 1 grado  c\n",
      " 1 grado  c  =  33.8  grados f\n",
      " 1 grado  c  =  274.15  grados k\n",
      " 1 grado  f  =  -17.22222222222222  grados c\n",
      "1 grado  f  = 1 grado  f\n",
      " 1 grado  f  =  255.92777777777775  grados k\n",
      " 1 grado  k  =  -272.15  grados c\n",
      " 1 grado  k  =  -457.86999999999995  grados f\n",
      "1 grado  k  = 1 grado  k\n"
     ]
    }
   ],
   "source": [
    "uni = ['c','f','k']\n",
    "\n",
    "for i in uni:\n",
    "\n",
    "    for j in uni:\n",
    "\n",
    "        if i != j:\n",
    "            print( ' 1 grado ', i , ' = ', temp(1,i,j), ' grados', j)\n",
    "        else:\n",
    "            print('1 grado ',i,' = 1 grado ',j)"
   ]
  },
  {
   "attachments": {},
   "cell_type": "markdown",
   "metadata": {},
   "source": [
    "6) Armar una función que devuelva el factorial de un número. Tener en cuenta que el usuario puede equivocarse y enviar de parámetro un número no entero o negativo"
   ]
  },
  {
   "cell_type": "code",
   "execution_count": 71,
   "metadata": {},
   "outputs": [],
   "source": [
    "def fac(num):\n",
    "\n",
    "    f=1\n",
    "\n",
    "    if num<=0 or type(num)!=int:\n",
    "        return 'El numero no es valido'\n",
    "    elif num >1:\n",
    "        f=num*fac(num-1)\n",
    "    return f\n"
   ]
  },
  {
   "cell_type": "code",
   "execution_count": 77,
   "metadata": {},
   "outputs": [
    {
     "data": {
      "text/plain": [
       "120"
      ]
     },
     "execution_count": 77,
     "metadata": {},
     "output_type": "execute_result"
    }
   ],
   "source": [
    "fac(5)"
   ]
  }
 ],
 "metadata": {
  "interpreter": {
   "hash": "c85384e4cb51c8b72350f3a8712cc8351fdc3955e32a27f9b60c6242ab125f01"
  },
  "kernelspec": {
   "display_name": "Python 3 (ipykernel)",
   "language": "python",
   "name": "python3"
  },
  "language_info": {
   "codemirror_mode": {
    "name": "ipython",
    "version": 3
   },
   "file_extension": ".py",
   "mimetype": "text/x-python",
   "name": "python",
   "nbconvert_exporter": "python",
   "pygments_lexer": "ipython3",
   "version": "3.12.4"
  }
 },
 "nbformat": 4,
 "nbformat_minor": 4
}
