{
 "cells": [
  {
   "attachments": {},
   "cell_type": "markdown",
   "metadata": {},
   "source": [
    "## Clases y Programación Orientada a Objetos"
   ]
  },
  {
   "attachments": {},
   "cell_type": "markdown",
   "metadata": {},
   "source": [
    "1) Crear la clase vehículo que contenga los atributos:<br>\n",
    "Color<br>\n",
    "Si es moto, auto, camioneta ó camión<br>\n",
    "Cilindrada del motor"
   ]
  },
  {
   "cell_type": "code",
   "execution_count": 2,
   "metadata": {},
   "outputs": [],
   "source": [
    "class Vehiculo:\n",
    "\n",
    "    def __init__(self,color,tipo,cilindrada):\n",
    "        self.color = color\n",
    "        self.tipo = tipo\n",
    "        self.cilindrada = cilindrada"
   ]
  },
  {
   "attachments": {},
   "cell_type": "markdown",
   "metadata": {},
   "source": [
    "2) A la clase Vehiculo creada en el punto 1, agregar los siguientes métodos:<br>\n",
    "Acelerar<br>\n",
    "Frenar<br>\n",
    "Doblar<br>"
   ]
  },
  {
   "cell_type": "code",
   "execution_count": 37,
   "metadata": {},
   "outputs": [],
   "source": [
    "class Vehiculo:\n",
    "\n",
    "    def __init__(self,color,tipo,cilindrada):\n",
    "        self.color = color\n",
    "        self.tipo = tipo\n",
    "        self.cilindrada = cilindrada\n",
    "        self.velocidad = 0\n",
    "        self.direccion = 0\n",
    "\n",
    "    def acelerar(self,vel):\n",
    "        self.velocidad += vel\n",
    "\n",
    "    def frenar(self,vel):\n",
    "        self.velocidad -= vel\n",
    "\n",
    "    def doblar(self,dir):\n",
    "        self.direccion = dir\n",
    "\n",
    "    def info(self):\n",
    "        \n",
    "        print('color: ',self.color, ' tipo: ',self.tipo,' cilindrada: ', self.cilindrada)"
   ]
  },
  {
   "attachments": {},
   "cell_type": "markdown",
   "metadata": {},
   "source": [
    "3) Instanciar 3 objetos de la clase vehículo y ejecutar sus métodos, probar luego el resultado"
   ]
  },
  {
   "cell_type": "code",
   "execution_count": 38,
   "metadata": {},
   "outputs": [
    {
     "name": "stdout",
     "output_type": "stream",
     "text": [
      "color:  negro  tipo:  Moto  cilindrada:  200\n",
      "color:  rojo  tipo:  Auto  cilindrada:  300\n",
      "color:  azul  tipo:  Camion  cilindrada:  300\n"
     ]
    }
   ],
   "source": [
    "moto1 = Vehiculo('negro','Moto','200')\n",
    "auto1 = Vehiculo('rojo','Auto','300')\n",
    "camion1 = Vehiculo('azul','Camion','300')\n",
    "\n",
    "moto1.acelerar(30)\n",
    "moto1.frenar(10)\n",
    "moto1.doblar('S')\n",
    "moto1.info()\n",
    "\n",
    "auto1.acelerar(40)\n",
    "auto1.frenar(25)\n",
    "auto1.doblar('N')\n",
    "auto1.info()\n",
    "\n",
    "camion1.acelerar(38)\n",
    "camion1.frenar(10)\n",
    "camion1.doblar('E')\n",
    "camion1.info()\n"
   ]
  },
  {
   "attachments": {},
   "cell_type": "markdown",
   "metadata": {},
   "source": [
    "4) Agregar a la clase Vehiculo, un método que muestre su estado, es decir, a que velocidad se encuentra y su dirección. Y otro método que muestre color, tipo y cilindrada"
   ]
  },
  {
   "cell_type": "code",
   "execution_count": 42,
   "metadata": {},
   "outputs": [],
   "source": [
    "class Vehiculo:\n",
    "\n",
    "    def __init__(self,color,tipo,cilindrada):\n",
    "        self.color = color\n",
    "        self.tipo = tipo\n",
    "        self.cilindrada = cilindrada\n",
    "        self.velocidad = 0\n",
    "        self.direccion = 0\n",
    "\n",
    "    def acelerar(self,vel):\n",
    "        self.velocidad += vel\n",
    "\n",
    "    def frenar(self,vel):\n",
    "        self.velocidad -= vel\n",
    "\n",
    "    def doblar(self,dir):\n",
    "        self.direccion = dir\n",
    "\n",
    "    def info(self):\n",
    "        print('color: ',self.color, ' tipo: ',self.tipo,' cilindrada: ', self.cilindrada)\n",
    "        \n",
    "    def est(self):\n",
    "        print(' velocidad: ', self.velocidad, ' direccion: ', self.direccion)"
   ]
  },
  {
   "cell_type": "code",
   "execution_count": 44,
   "metadata": {},
   "outputs": [
    {
     "name": "stdout",
     "output_type": "stream",
     "text": [
      "color:  negro  tipo:  Moto  cilindrada:  200\n",
      " velocidad:  0  direccion:  0\n",
      "color:  rojo  tipo:  Auto  cilindrada:  300\n",
      " velocidad:  0  direccion:  0\n",
      "color:  azul  tipo:  Camion  cilindrada:  300\n",
      " velocidad:  0  direccion:  0\n"
     ]
    }
   ],
   "source": [
    "moto1 = Vehiculo('negro','Moto','200')\n",
    "auto1 = Vehiculo('rojo','Auto','300')\n",
    "camion1 = Vehiculo('azul','Camion','300')\n",
    "\n",
    "moto1.info()\n",
    "moto1.est()\n",
    "\n",
    "\n",
    "auto1.info()\n",
    "auto1.est()\n",
    "\n",
    "\n",
    "camion1.info()\n",
    "camion1.est()\n",
    "\n"
   ]
  },
  {
   "attachments": {},
   "cell_type": "markdown",
   "metadata": {},
   "source": [
    "5) Crear una clase que permita utilizar las funciones creadas en la práctica del módulo 7<br>\n",
    "Verificar Primo<br>\n",
    "Valor modal<br>\n",
    "Conversión grados<br>\n",
    "Factorial<br>"
   ]
  },
  {
   "cell_type": "code",
   "execution_count": 57,
   "metadata": {},
   "outputs": [],
   "source": [
    "class Funciones:\n",
    "\n",
    "    def __init__(self):\n",
    "        pass\n",
    "\n",
    "    def ver_primo(self,nu):\n",
    "        \n",
    "        p=True\n",
    "        for i in range(2,nu):\n",
    "\n",
    "            a=nu%i\n",
    "\n",
    "            if a==0:\n",
    "                p=False\n",
    "                break\n",
    "\n",
    "        return p\n",
    "    \n",
    "    def val_modal(self,lista):\n",
    "\n",
    "        lista_unicos = []\n",
    "        lista_repeticiones = []\n",
    "\n",
    "        for elemento in lista:\n",
    "            if elemento in lista_unicos:\n",
    "                i = lista_unicos.index(elemento)\n",
    "                lista_repeticiones[i] += 1\n",
    "            else:\n",
    "                lista_unicos.append(elemento)\n",
    "                lista_repeticiones.append(1)\n",
    "\n",
    "        mx=max(lista_repeticiones)\n",
    "        p=lista_repeticiones.index(mx)\n",
    "        num=lista_unicos[p]\n",
    "\n",
    "        return num,mx\n",
    "    \n",
    "    def conv_temp(self,t,uo,ud):\n",
    "\n",
    "        if uo == 'c' and ud =='f':\n",
    "            tf = 32+(t*(9/5))\n",
    "        elif uo == 'c' and ud == 'k':\n",
    "            tf = t + 273.15\n",
    "        elif uo == 'k' and ud == 'f':\n",
    "            tf = 32+((t-273.15)*(9/5))\n",
    "        elif uo == 'f' and ud == 'k':\n",
    "            tf = (t - 32)*(5/9) + 273.15\n",
    "        elif uo == 'k' and ud == 'c':\n",
    "            tf = t-273.15\n",
    "        elif uo == 'f' and ud == 'c':\n",
    "            tf = (t - 32)*(5/9)\n",
    "        return tf\n",
    "    \n",
    "    def facto(self,num):\n",
    "\n",
    "        f=1\n",
    "\n",
    "        if num<=0 or type(num)!=int:\n",
    "            return 'El numero no es valido'\n",
    "        elif num >1:\n",
    "            f=num*self.facto(num-1)\n",
    "        return f\n",
    "        \n"
   ]
  },
  {
   "attachments": {},
   "cell_type": "markdown",
   "metadata": {},
   "source": [
    "6) Probar las funciones incorporadas en la clase del punto 5"
   ]
  },
  {
   "cell_type": "code",
   "execution_count": 58,
   "metadata": {},
   "outputs": [
    {
     "name": "stdout",
     "output_type": "stream",
     "text": [
      "True\n",
      "(3, 3)\n",
      "277.59444444444443\n",
      "120\n"
     ]
    }
   ],
   "source": [
    "a = Funciones()\n",
    "\n",
    "print(a.ver_primo(19))\n",
    "print(a.val_modal([1,2,3,3,3,4,5,6,4,1]))\n",
    "print(a.conv_temp(40,'f','k'))\n",
    "print(a.facto(5))"
   ]
  },
  {
   "attachments": {},
   "cell_type": "markdown",
   "metadata": {},
   "source": [
    "7) Es necesario que la clase creada en el punto 5 contenga una lista, sobre la cual se apliquen las funciones incorporadas"
   ]
  },
  {
   "cell_type": "code",
   "execution_count": 72,
   "metadata": {},
   "outputs": [],
   "source": [
    "class FuncionesL:\n",
    "\n",
    "    def __init__(self,lista):\n",
    "        self.lista = lista\n",
    "\n",
    "    def ver_primo(self,nu):\n",
    "        \n",
    "        p=True\n",
    "        for i in range(2,nu):\n",
    "\n",
    "            a=nu%i\n",
    "\n",
    "            if a==0:\n",
    "                p=False\n",
    "                break\n",
    "\n",
    "        return p\n",
    "    \n",
    "    def ver_primo_l(self):\n",
    "\n",
    "        print('Numeros primos:')\n",
    "\n",
    "        for i in self.lista:\n",
    "\n",
    "            if self.ver_primo(i):\n",
    "                print(i, ' es un numero primo')\n",
    "            else:\n",
    "                print(i,' no es un numero primo')\n",
    "    \n",
    "    def val_modal(self):\n",
    "\n",
    "        print('Valor modal:')\n",
    "        lista_unicos = []\n",
    "        lista_repeticiones = []\n",
    "\n",
    "        for elemento in self.lista:\n",
    "            if elemento in lista_unicos:\n",
    "                i = lista_unicos.index(elemento)\n",
    "                lista_repeticiones[i] += 1\n",
    "            else:\n",
    "                lista_unicos.append(elemento)\n",
    "                lista_repeticiones.append(1)\n",
    "\n",
    "        mx=max(lista_repeticiones)\n",
    "        p=lista_repeticiones.index(mx)\n",
    "        num=lista_unicos[p]\n",
    "\n",
    "        print('el valor modal es ',num,' se repite ',mx,' veces')\n",
    "        return num,mx\n",
    "    \n",
    "    def conv_temp(self,uo,ud):\n",
    "\n",
    "        print('Conversion de temperatura:')\n",
    "\n",
    "        for t in self.lista:\n",
    "\n",
    "            if uo == 'C' and ud =='F':\n",
    "                tf = 32+(t*(9/5))\n",
    "            elif uo == 'C' and ud == 'K':\n",
    "                tf = t + 273.15\n",
    "            elif uo == 'K' and ud == 'F':\n",
    "                tf = 32+((t-273.15)*(9/5))\n",
    "            elif uo == 'F' and ud == 'K':\n",
    "                tf = (t - 32)*(5/9) + 273.15\n",
    "            elif uo == 'K' and ud == 'C':\n",
    "                tf = t-273.15\n",
    "            elif uo == 'F' and ud == 'C':\n",
    "                tf = (t - 32)*(5/9)\n",
    "            print(t,' grados ', uo, ' son ', tf, ' grados ', ud)\n",
    "    \n",
    "    def facto(self,num):\n",
    "\n",
    "        f=1\n",
    "\n",
    "        if num<=0 or type(num)!=int:\n",
    "            return 'El numero no es valido'\n",
    "        elif num >1:\n",
    "            f=num*self.facto(num-1)\n",
    "        return f\n",
    "    \n",
    "    def facto_l(self):\n",
    "\n",
    "        print('Factoriales:')\n",
    "\n",
    "        for i in self.lista:\n",
    "\n",
    "            print('El factorial de ', i, ' es ', self.facto(i))\n"
   ]
  },
  {
   "cell_type": "code",
   "execution_count": 73,
   "metadata": {},
   "outputs": [
    {
     "name": "stdout",
     "output_type": "stream",
     "text": [
      "Factoriales:\n",
      "El factorial de  1  es  1\n",
      "El factorial de  2  es  2\n",
      "El factorial de  3  es  6\n",
      "El factorial de  4  es  24\n",
      "El factorial de  5  es  120\n",
      "El factorial de  2  es  2\n",
      "El factorial de  7  es  5040\n",
      "El factorial de  2  es  2\n",
      "El factorial de  1  es  1\n",
      "Numeros primos:\n",
      "1  es un numero primo\n",
      "2  es un numero primo\n",
      "3  es un numero primo\n",
      "4  no es un numero primo\n",
      "5  es un numero primo\n",
      "2  es un numero primo\n",
      "7  es un numero primo\n",
      "2  es un numero primo\n",
      "1  es un numero primo\n",
      "Valor modal:\n",
      "el valor modal es  2  se repite  3  veces\n",
      "Conversion de temperatura:\n",
      "40  grados  C  son  313.15  grados  K\n",
      "25  grados  C  son  298.15  grados  K\n",
      "17  grados  C  son  290.15  grados  K\n",
      "0  grados  C  son  273.15  grados  K\n"
     ]
    }
   ],
   "source": [
    "a=[1,2,3,4,5,2,7,2,1]\n",
    "\n",
    "b=FuncionesL(a)\n",
    "\n",
    "b.facto_l()\n",
    "b.ver_primo_l()\n",
    "b.val_modal()\n",
    "\n",
    "x=[40,25,17,0]\n",
    "c=FuncionesL(x)\n",
    "c.conv_temp('C','K')\n"
   ]
  },
  {
   "attachments": {},
   "cell_type": "markdown",
   "metadata": {},
   "source": [
    "8) Crear un archivo .py aparte y ubicar allí la clase generada en el punto anterior. Luego realizar la importación del módulo y probar alguna de sus funciones"
   ]
  },
  {
   "cell_type": "code",
   "execution_count": 87,
   "metadata": {},
   "outputs": [
    {
     "name": "stdout",
     "output_type": "stream",
     "text": [
      "Numeros primos:\n",
      "1  es un numero primo\n",
      "2  es un numero primo\n",
      "3  es un numero primo\n",
      "4  no es un numero primo\n",
      "5  es un numero primo\n",
      "6  no es un numero primo\n",
      "7  es un numero primo\n",
      "8  no es un numero primo\n",
      "9  no es un numero primo\n",
      "10  no es un numero primo\n",
      "11  es un numero primo\n",
      "12  no es un numero primo\n",
      "13  es un numero primo\n",
      "14  no es un numero primo\n",
      "15  no es un numero primo\n",
      "16  no es un numero primo\n",
      "17  es un numero primo\n"
     ]
    }
   ],
   "source": [
    "from funm import *\n",
    "\n",
    "y=[1,2,3,4,5,6,7,8,9,10,11,12,13,14,15,16,17]\n",
    "\n",
    "z=Funm(y)\n",
    "\n",
    "z.ver_primo_l()\n",
    "\n",
    "\n"
   ]
  }
 ],
 "metadata": {
  "interpreter": {
   "hash": "c85384e4cb51c8b72350f3a8712cc8351fdc3955e32a27f9b60c6242ab125f01"
  },
  "kernelspec": {
   "display_name": "Python 3 (ipykernel)",
   "language": "python",
   "name": "python3"
  },
  "language_info": {
   "codemirror_mode": {
    "name": "ipython",
    "version": 3
   },
   "file_extension": ".py",
   "mimetype": "text/x-python",
   "name": "python",
   "nbconvert_exporter": "python",
   "pygments_lexer": "ipython3",
   "version": "3.12.4"
  }
 },
 "nbformat": 4,
 "nbformat_minor": 4
}
