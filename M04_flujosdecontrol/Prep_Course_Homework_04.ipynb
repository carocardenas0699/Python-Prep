{
 "cells": [
  {
   "attachments": {},
   "cell_type": "markdown",
   "metadata": {},
   "source": [
    "## Flujos de Control"
   ]
  },
  {
   "attachments": {},
   "cell_type": "markdown",
   "metadata": {},
   "source": [
    "1) Crear una variable que contenga un elemento del conjunto de números enteros y luego imprimir por pantalla si es mayor o menor a cero"
   ]
  },
  {
   "cell_type": "code",
   "execution_count": 3,
   "metadata": {},
   "outputs": [],
   "source": [
    "n=5\n",
    "\n",
    "if n < 0:\n",
    "    print('n es menor a 0')\n",
    "elif n>0:\n",
    "    print('n es mayor a 0')\n"
   ]
  },
  {
   "attachments": {},
   "cell_type": "markdown",
   "metadata": {},
   "source": [
    "2) Crear dos variables y un condicional que informe si son del mismo tipo de dato"
   ]
  },
  {
   "cell_type": "code",
   "execution_count": 7,
   "metadata": {},
   "outputs": [
    {
     "name": "stdout",
     "output_type": "stream",
     "text": [
      "no son del mismo tipo, a es  <class 'int'> y b es <class 'str'>\n"
     ]
    }
   ],
   "source": [
    "a=1\n",
    "b='hola'\n",
    "\n",
    "if type(a)==type(b):\n",
    "    print('son del mismo tipo')\n",
    "else:\n",
    "    print('no son del mismo tipo, a es ',type(a), 'y b es', type(b))"
   ]
  },
  {
   "attachments": {},
   "cell_type": "markdown",
   "metadata": {},
   "source": [
    "3) Para los valores enteros del 1 al 20, imprimir por pantalla si es par o impar"
   ]
  },
  {
   "cell_type": "code",
   "execution_count": 8,
   "metadata": {},
   "outputs": [
    {
     "name": "stdout",
     "output_type": "stream",
     "text": [
      "1 es impar\n",
      "2 es par\n",
      "3 es impar\n",
      "4 es par\n",
      "5 es impar\n",
      "6 es par\n",
      "7 es impar\n",
      "8 es par\n",
      "9 es impar\n",
      "10 es par\n",
      "11 es impar\n",
      "12 es par\n",
      "13 es impar\n",
      "14 es par\n",
      "15 es impar\n",
      "16 es par\n",
      "17 es impar\n",
      "18 es par\n",
      "19 es impar\n",
      "20 es par\n"
     ]
    }
   ],
   "source": [
    "for i in range(1,21):\n",
    "    if i%2==0:\n",
    "        print(i, 'es par')\n",
    "    else:\n",
    "        print(i, 'es impar')\n",
    "        "
   ]
  },
  {
   "attachments": {},
   "cell_type": "markdown",
   "metadata": {},
   "source": [
    "4) En un ciclo for mostrar para los valores entre 0 y 5 el resultado de elevarlo a la potencia igual a 3"
   ]
  },
  {
   "cell_type": "code",
   "execution_count": 10,
   "metadata": {},
   "outputs": [
    {
     "name": "stdout",
     "output_type": "stream",
     "text": [
      "0 elevado 3 =  0\n",
      "1 elevado 3 =  1\n",
      "2 elevado 3 =  8\n",
      "3 elevado 3 =  27\n",
      "4 elevado 3 =  64\n",
      "5 elevado 3 =  125\n"
     ]
    }
   ],
   "source": [
    "for i in range(0,6):\n",
    "    print(i, 'elevado 3 = ',i**3)"
   ]
  },
  {
   "attachments": {},
   "cell_type": "markdown",
   "metadata": {},
   "source": [
    "5) Crear una variable que contenga un número entero y realizar un ciclo for la misma cantidad de ciclos"
   ]
  },
  {
   "cell_type": "code",
   "execution_count": 11,
   "metadata": {},
   "outputs": [
    {
     "name": "stdout",
     "output_type": "stream",
     "text": [
      "1\n",
      "2\n",
      "3\n",
      "4\n",
      "5\n"
     ]
    }
   ],
   "source": [
    "m=5\n",
    "i=1\n",
    "\n",
    "while i <= 5:\n",
    "    print(i)\n",
    "    i+=1\n",
    "\n"
   ]
  },
  {
   "attachments": {},
   "cell_type": "markdown",
   "metadata": {},
   "source": [
    "6) Utilizar un ciclo while para realizar el factorial de un número guardado en una variable, sólo si la variable contiene un número entero mayor a 0"
   ]
  },
  {
   "cell_type": "code",
   "execution_count": 18,
   "metadata": {},
   "outputs": [
    {
     "name": "stdout",
     "output_type": "stream",
     "text": [
      "no es un numero entero\n"
     ]
    }
   ],
   "source": [
    "x=3.5\n",
    "fac=1\n",
    "\n",
    "if type(x)==int:\n",
    "    while x>0:\n",
    "        fac=fac*x\n",
    "        x-=1\n",
    "    print(fac)\n",
    "else:\n",
    "    print('no es un numero entero')"
   ]
  },
  {
   "attachments": {},
   "cell_type": "markdown",
   "metadata": {},
   "source": [
    "7) Crear un ciclo for dentro de un ciclo while"
   ]
  },
  {
   "cell_type": "code",
   "execution_count": 20,
   "metadata": {},
   "outputs": [
    {
     "name": "stdout",
     "output_type": "stream",
     "text": [
      "sumatoria de  1 es=  1\n",
      "sumatoria de  2 es=  3\n",
      "sumatoria de  3 es=  6\n",
      "sumatoria de  4 es=  10\n"
     ]
    }
   ],
   "source": [
    "y=1\n",
    "\n",
    "while y < 5:\n",
    "    \n",
    "    su=0\n",
    "\n",
    "    for i in range(1,y+1):\n",
    "        su=su+i\n",
    "    print('sumatoria de ',y,'es= ',su)\n",
    "\n",
    "    y+=1"
   ]
  },
  {
   "attachments": {},
   "cell_type": "markdown",
   "metadata": {},
   "source": [
    "8) Crear un ciclo while dentro de un ciclo for"
   ]
  },
  {
   "cell_type": "code",
   "execution_count": 24,
   "metadata": {},
   "outputs": [
    {
     "name": "stdout",
     "output_type": "stream",
     "text": [
      "factorial de  1 es:  1\n",
      "factorial de  2 es:  3\n",
      "factorial de  3 es:  6\n",
      "factorial de  4 es:  10\n",
      "factorial de  5 es:  15\n",
      "factorial de  6 es:  21\n"
     ]
    }
   ],
   "source": [
    "n=6\n",
    "for i in range(1,n+1):\n",
    "\n",
    "    sum2=0\n",
    "    a=0\n",
    "\n",
    "    while a<=i:\n",
    "        \n",
    "        sum2=sum2+a\n",
    "        a+=1\n",
    "\n",
    "    print('factorial de ',i,'es: ', sum2)"
   ]
  },
  {
   "attachments": {},
   "cell_type": "markdown",
   "metadata": {},
   "source": [
    "9) Imprimir los números primos existentes entre 0 y 30"
   ]
  },
  {
   "cell_type": "code",
   "execution_count": 53,
   "metadata": {},
   "outputs": [
    {
     "name": "stdout",
     "output_type": "stream",
     "text": [
      "1 es primo\n",
      "2 es primo\n",
      "3 es primo\n",
      "4 no es primo\n",
      "5 es primo\n",
      "6 no es primo\n",
      "7 es primo\n",
      "8 no es primo\n",
      "9 no es primo\n",
      "10 no es primo\n",
      "11 es primo\n",
      "12 no es primo\n",
      "13 es primo\n",
      "14 no es primo\n",
      "15 no es primo\n",
      "16 no es primo\n",
      "17 es primo\n",
      "18 no es primo\n",
      "19 es primo\n",
      "20 no es primo\n",
      "21 no es primo\n",
      "22 no es primo\n",
      "23 es primo\n",
      "24 no es primo\n",
      "25 no es primo\n",
      "26 no es primo\n",
      "27 no es primo\n",
      "28 no es primo\n",
      "29 es primo\n",
      "30 no es primo\n"
     ]
    }
   ],
   "source": [
    "w=0\n",
    "\n",
    "while w<=30:\n",
    "\n",
    "    for i in range(2,w+1):\n",
    "\n",
    "        res = w%i\n",
    "\n",
    "        if i!=w and res == 0:\n",
    "            print (w, 'no es primo')\n",
    "            break\n",
    "    \n",
    "    if i==w or w==1:\n",
    "        print (w, 'es primo')\n",
    "\n",
    "    w+=1\n",
    "    \n"
   ]
  },
  {
   "attachments": {},
   "cell_type": "markdown",
   "metadata": {},
   "source": [
    "10) ¿Se puede mejorar el proceso del punto 9? Utilizar las sentencias break y/ó continue para tal fin"
   ]
  },
  {
   "cell_type": "code",
   "execution_count": 54,
   "metadata": {},
   "outputs": [
    {
     "name": "stdout",
     "output_type": "stream",
     "text": [
      "1 es primo\n",
      "2 es primo\n",
      "3 es primo\n",
      "4 no es primo\n",
      "5 es primo\n",
      "6 no es primo\n",
      "7 es primo\n",
      "8 no es primo\n",
      "9 no es primo\n",
      "10 no es primo\n",
      "11 es primo\n",
      "12 no es primo\n",
      "13 es primo\n",
      "14 no es primo\n",
      "15 no es primo\n",
      "16 no es primo\n",
      "17 es primo\n",
      "18 no es primo\n",
      "19 es primo\n",
      "20 no es primo\n",
      "21 no es primo\n",
      "22 no es primo\n",
      "23 es primo\n",
      "24 no es primo\n",
      "25 no es primo\n",
      "26 no es primo\n",
      "27 no es primo\n",
      "28 no es primo\n",
      "29 es primo\n",
      "30 no es primo\n",
      "numero de ciclos: 145\n"
     ]
    }
   ],
   "source": [
    "w=0\n",
    "cic=0\n",
    "\n",
    "while w<=30:\n",
    "\n",
    "    for i in range(2,w+1):\n",
    "        \n",
    "        cic+=1\n",
    "        res = w%i\n",
    "\n",
    "        if i!=w and res == 0:\n",
    "            print (w, 'no es primo')\n",
    "            break\n",
    "    \n",
    "    if i==w or w==1:\n",
    "        print (w, 'es primo')\n",
    "\n",
    "    w+=1\n",
    "\n",
    "print('numero de ciclos:', cic)"
   ]
  },
  {
   "attachments": {},
   "cell_type": "markdown",
   "metadata": {},
   "source": [
    "11) En los puntos 9 y 10, se diseño un código que encuentra números primos y además se lo optimizó. ¿Es posible saber en qué medida se optimizó?"
   ]
  },
  {
   "cell_type": "code",
   "execution_count": null,
   "metadata": {},
   "outputs": [],
   "source": [
    "#numero de ciclos = 145"
   ]
  },
  {
   "attachments": {},
   "cell_type": "markdown",
   "metadata": {},
   "source": [
    "12) Aplicando continue, armar un ciclo while que solo imprima los valores divisibles por 12, dentro del rango de números de 100 a 300"
   ]
  },
  {
   "cell_type": "code",
   "execution_count": 57,
   "metadata": {},
   "outputs": [
    {
     "name": "stdout",
     "output_type": "stream",
     "text": [
      "108\n",
      "120\n",
      "132\n",
      "144\n",
      "156\n",
      "168\n",
      "180\n",
      "192\n",
      "204\n",
      "216\n",
      "228\n",
      "240\n",
      "252\n",
      "264\n",
      "276\n",
      "288\n",
      "300\n"
     ]
    }
   ],
   "source": [
    "w=100\n",
    "\n",
    "while w <= 300:\n",
    "\n",
    "    res = w%12\n",
    "\n",
    "    if res != 0:\n",
    "        \n",
    "        w+=1\n",
    "        continue\n",
    "    \n",
    "    print(w)\n",
    "    w+=1\n",
    "\n",
    "\n"
   ]
  },
  {
   "attachments": {},
   "cell_type": "markdown",
   "metadata": {},
   "source": [
    "13) Utilizar la función **input()** que permite hacer ingresos por teclado, para encontrar números primos y dar la opción al usario de buscar el siguiente"
   ]
  },
  {
   "cell_type": "code",
   "execution_count": 10,
   "metadata": {},
   "outputs": [
    {
     "name": "stdout",
     "output_type": "stream",
     "text": [
      "1 es primo\n",
      "Desea encontrar el siguiente numero primo?\n",
      "2 es primo\n",
      "Desea encontrar el siguiente numero primo?\n",
      "3 es primo\n",
      "Desea encontrar el siguiente numero primo?\n",
      "5 es primo\n",
      "Desea encontrar el siguiente numero primo?\n",
      "7 es primo\n",
      "Desea encontrar el siguiente numero primo?\n",
      "11 es primo\n",
      "Desea encontrar el siguiente numero primo?\n",
      "13 es primo\n",
      "Desea encontrar el siguiente numero primo?\n",
      "17 es primo\n",
      "Desea encontrar el siguiente numero primo?\n",
      "19 es primo\n",
      "Desea encontrar el siguiente numero primo?\n",
      "23 es primo\n",
      "Desea encontrar el siguiente numero primo?\n",
      "29 es primo\n",
      "Desea encontrar el siguiente numero primo?\n",
      "31 es primo\n",
      "Desea encontrar el siguiente numero primo?\n",
      "37 es primo\n",
      "Desea encontrar el siguiente numero primo?\n"
     ]
    }
   ],
   "source": [
    "w=1\n",
    "sigue = True\n",
    "\n",
    "while sigue==True:\n",
    "\n",
    "    primo = True\n",
    "\n",
    "    for i in range(2,w+1):\n",
    "\n",
    "        res = w%i\n",
    "\n",
    "        if i!=w and res==0:\n",
    "            primo = False\n",
    "            continue\n",
    "\n",
    "    if primo:\n",
    "        \n",
    "        print (w, 'es primo')\n",
    "        print('Desea encontrar el siguiente numero primo?')\n",
    "\n",
    "        if(input()=='No'):\n",
    "            sigue = False  \n",
    "\n",
    "    w+=1"
   ]
  },
  {
   "attachments": {},
   "cell_type": "markdown",
   "metadata": {},
   "source": [
    "14) Crear un ciclo while que encuentre dentro del rango de 100 a 300 el primer número divisible por 3 y además múltiplo de 6"
   ]
  },
  {
   "cell_type": "code",
   "execution_count": 15,
   "metadata": {},
   "outputs": [
    {
     "name": "stdout",
     "output_type": "stream",
     "text": [
      "54 es divisible por 3 y multiplo de 6\n"
     ]
    }
   ],
   "source": [
    "w = 100\n",
    "\n",
    "while w <= 300:\n",
    "\n",
    "    res1 = w%6\n",
    "\n",
    "    if res1 == 0:\n",
    "\n",
    "        print(w, 'es divisible por 3 y multiplo de 6')\n",
    "        break\n",
    "\n",
    "    w+=1\n",
    "\n",
    "\n"
   ]
  }
 ],
 "metadata": {
  "interpreter": {
   "hash": "c85384e4cb51c8b72350f3a8712cc8351fdc3955e32a27f9b60c6242ab125f01"
  },
  "kernelspec": {
   "display_name": "Python 3 (ipykernel)",
   "language": "python",
   "name": "python3"
  },
  "language_info": {
   "codemirror_mode": {
    "name": "ipython",
    "version": 3
   },
   "file_extension": ".py",
   "mimetype": "text/x-python",
   "name": "python",
   "nbconvert_exporter": "python",
   "pygments_lexer": "ipython3",
   "version": "3.12.4"
  }
 },
 "nbformat": 4,
 "nbformat_minor": 4
}
