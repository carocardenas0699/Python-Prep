{
 "cells": [
  {
   "attachments": {},
   "cell_type": "markdown",
   "metadata": {},
   "source": [
    "## Manejo de errores"
   ]
  },
  {
   "attachments": {},
   "cell_type": "markdown",
   "metadata": {},
   "source": [
    "1) Con la clase creada en el módulo 7, tener en cuenta diferentes casos en que el código pudiera arrojar error. Por ejemplo, en la creación del objeto recibimos una lista de números enteros pero ¿qué pasa si se envía otro tipo de dato?"
   ]
  },
  {
   "cell_type": "code",
   "execution_count": 97,
   "metadata": {},
   "outputs": [],
   "source": [
    "import sys\n",
    "sys.path.append(r'c:/Users/ASUS/Desktop/Python-Prep/M08_clasesyOOP')\n"
   ]
  },
  {
   "cell_type": "code",
   "execution_count": 165,
   "metadata": {},
   "outputs": [],
   "source": [
    "import importlib\n",
    "from funm import *\n",
    "#import funm\n",
    "importlib.reload(funm)\n",
    "\n",
    "a=Funm([1,2,3,4,9,6])\n",
    "\n"
   ]
  },
  {
   "attachments": {},
   "cell_type": "markdown",
   "metadata": {},
   "source": [
    "2) En la función que hace la conversión de grados, validar que los parámetros enviados sean los esperados, de no serlo, informar cuáles son los valores esperados."
   ]
  },
  {
   "cell_type": "code",
   "execution_count": 41,
   "metadata": {},
   "outputs": [
    {
     "name": "stdout",
     "output_type": "stream",
     "text": [
      "Conversion de temperatura:\n",
      "23  grados  C  son  296.15  grados  K\n",
      "67  grados  C  son  340.15  grados  K\n",
      "89  grados  C  son  362.15  grados  K\n",
      "10  grados  C  son  283.15  grados  K\n"
     ]
    }
   ],
   "source": [
    "b=Func([23,67,89,10])\n",
    "b.conv_temp('C','K')"
   ]
  },
  {
   "cell_type": "code",
   "execution_count": 81,
   "metadata": {},
   "outputs": [
    {
     "name": "stdout",
     "output_type": "stream",
     "text": [
      "Conversion de temperatura:\n",
      "1  grados  C  son  274.15  grados  K\n",
      "2  grados  C  son  275.15  grados  K\n",
      "3  grados  C  son  276.15  grados  K\n",
      "4  grados  C  son  277.15  grados  K\n",
      "9  grados  C  son  282.15  grados  K\n",
      "6  grados  C  son  279.15  grados  K\n"
     ]
    }
   ],
   "source": [
    "a.conv_temp('C','K')"
   ]
  },
  {
   "attachments": {},
   "cell_type": "markdown",
   "metadata": {},
   "source": [
    "3) Importar el modulo \"unittest\" y crear los siguientes casos de pruebas sobre la clase utilizada en el punto 2<br>\n",
    "Creacion del objeto incorrecta<br>\n",
    "Creacion correcta del objeto<br>\n",
    "Metodo valor_modal()<br>\n",
    "\n",
    "Se puede usar \"raise ValueError()\" en la creación de la clase para verificar el error. Investigar sobre esta funcionalidad."
   ]
  },
  {
   "cell_type": "code",
   "execution_count": 82,
   "metadata": {},
   "outputs": [],
   "source": [
    "import unittest"
   ]
  },
  {
   "cell_type": "code",
   "execution_count": 213,
   "metadata": {},
   "outputs": [
    {
     "name": "stderr",
     "output_type": "stream",
     "text": [
      "test_primos (__main__.Prueba2.test_primos) ... ok\n",
      "test_conv_temp (__main__.Prueba3.test_conv_temp) ... ok\n",
      "test_fact (__main__.Prueba4.test_fact) ... ok\n",
      "\n",
      "----------------------------------------------------------------------\n",
      "Ran 3 tests in 0.011s\n",
      "\n",
      "OK\n"
     ]
    },
    {
     "name": "stdout",
     "output_type": "stream",
     "text": [
      "Numeros primos:\n",
      "1  es un numero primo\n",
      "2  es un numero primo\n",
      "3  es un numero primo\n",
      "4  no es un numero primo\n",
      "5  es un numero primo\n",
      "6  no es un numero primo\n",
      "Conversion de temperatura:\n",
      "0  grados  C  son  273.15  grados  K  !\n",
      "10  grados  C  son  283.15  grados  K  !\n",
      "20  grados  C  son  293.15  grados  K  !\n",
      "30  grados  C  son  303.15  grados  K  !\n",
      "Factoriales:\n",
      "El factorial de  1  es...  1\n",
      "El factorial de  2  es...  2\n",
      "El factorial de  3  es...  6\n",
      "El factorial de  4  es...  24\n",
      "El factorial de  5  es...  120\n"
     ]
    },
    {
     "data": {
      "text/plain": [
       "<unittest.main.TestProgram at 0x28a40a4ae40>"
      ]
     },
     "execution_count": 213,
     "metadata": {},
     "output_type": "execute_result"
    }
   ],
   "source": [
    "unittest.main(argv=[''], verbosity=2, exit=False)"
   ]
  },
  {
   "cell_type": "code",
   "execution_count": 211,
   "metadata": {},
   "outputs": [],
   "source": [
    "class Prueba(unittest.TestCase):\n",
    "\n",
    "    def creacion_correcta(self):\n",
    "        \n",
    "        l=[1,2,3,4]\n",
    "\n",
    "        res=Funm(l)\n",
    "\n",
    "        self.assertEqual(res.lista,l)\n",
    "\n",
    "    def creacion_incorrecta(self):\n",
    "\n",
    "        '''Revisa creacion incorrecta'''\n",
    "\n",
    "        l=[1,2,'a',3]\n",
    "\n",
    "        self.assertRaises(ValueError,Funm(l),l)\n",
    "      \n",
    "    def p_val_mod(self):\n",
    "        \n",
    "        '''Revisa valores modales'''\n",
    "        \n",
    "        l = [1,2,2,3,4,2]\n",
    "        m = Funm(l)\n",
    "        res = [2,3]\n",
    "\n",
    "        vl,md=m.val_modal()\n",
    "\n",
    "        self.assertEqual([vl,md],res)\n"
   ]
  },
  {
   "cell_type": "code",
   "execution_count": 214,
   "metadata": {},
   "outputs": [
    {
     "name": "stderr",
     "output_type": "stream",
     "text": [
      "test_primos (__main__.Prueba2.test_primos) ... ok\n",
      "test_conv_temp (__main__.Prueba3.test_conv_temp) ... ok\n",
      "test_fact (__main__.Prueba4.test_fact) ... ok\n",
      "\n",
      "----------------------------------------------------------------------\n",
      "Ran 3 tests in 0.011s\n",
      "\n",
      "OK\n"
     ]
    },
    {
     "name": "stdout",
     "output_type": "stream",
     "text": [
      "Numeros primos:\n",
      "1  es un numero primo\n",
      "2  es un numero primo\n",
      "3  es un numero primo\n",
      "4  no es un numero primo\n",
      "5  es un numero primo\n",
      "6  no es un numero primo\n",
      "Conversion de temperatura:\n",
      "0  grados  C  son  273.15  grados  K  !\n",
      "10  grados  C  son  283.15  grados  K  !\n",
      "20  grados  C  son  293.15  grados  K  !\n",
      "30  grados  C  son  303.15  grados  K  !\n",
      "Factoriales:\n",
      "El factorial de  1  es...  1\n",
      "El factorial de  2  es...  2\n",
      "El factorial de  3  es...  6\n",
      "El factorial de  4  es...  24\n",
      "El factorial de  5  es...  120\n"
     ]
    },
    {
     "data": {
      "text/plain": [
       "<unittest.main.TestProgram at 0x28a40a4b830>"
      ]
     },
     "execution_count": 214,
     "metadata": {},
     "output_type": "execute_result"
    }
   ],
   "source": [
    "unittest.main(argv=[''], verbosity=2, exit=False)"
   ]
  },
  {
   "attachments": {},
   "cell_type": "markdown",
   "metadata": {},
   "source": [
    "4) Probar una creación incorrecta y visualizar la salida del \"raise\""
   ]
  },
  {
   "cell_type": "code",
   "execution_count": 90,
   "metadata": {},
   "outputs": [
    {
     "ename": "ValueError",
     "evalue": "Debe ser una lista de numeros enteros!",
     "output_type": "error",
     "traceback": [
      "\u001b[1;31m---------------------------------------------------------------------------\u001b[0m",
      "\u001b[1;31mValueError\u001b[0m                                Traceback (most recent call last)",
      "Cell \u001b[1;32mIn[90], line 3\u001b[0m\n\u001b[0;32m      1\u001b[0m g\u001b[38;5;241m=\u001b[39m[\u001b[38;5;241m1\u001b[39m,\u001b[38;5;241m2\u001b[39m,\u001b[38;5;241m3\u001b[39m,\u001b[38;5;124m'\u001b[39m\u001b[38;5;124mg\u001b[39m\u001b[38;5;124m'\u001b[39m]\n\u001b[1;32m----> 3\u001b[0m gg \u001b[38;5;241m=\u001b[39m \u001b[43mFunm\u001b[49m\u001b[43m(\u001b[49m\u001b[43mg\u001b[49m\u001b[43m)\u001b[49m\n",
      "File \u001b[1;32mc:\\Users\\ASUS\\Desktop\\Python-Prep\\M09_errorhandling\\funm.py:9\u001b[0m, in \u001b[0;36mFunm.__init__\u001b[1;34m(self, lista)\u001b[0m\n\u001b[0;32m      5\u001b[0m \u001b[38;5;28;01mfor\u001b[39;00m i \u001b[38;5;129;01min\u001b[39;00m lista:\n\u001b[0;32m      7\u001b[0m     \u001b[38;5;28;01mif\u001b[39;00m \u001b[38;5;28mtype\u001b[39m(i)\u001b[38;5;241m!=\u001b[39m\u001b[38;5;28mint\u001b[39m:\n\u001b[1;32m----> 9\u001b[0m         \u001b[38;5;28;01mraise\u001b[39;00m \u001b[38;5;167;01mValueError\u001b[39;00m(\u001b[38;5;124m'\u001b[39m\u001b[38;5;124mDebe ser una lista de numeros enteros!\u001b[39m\u001b[38;5;124m'\u001b[39m)\n\u001b[0;32m     11\u001b[0m \u001b[38;5;28mself\u001b[39m\u001b[38;5;241m.\u001b[39mlista \u001b[38;5;241m=\u001b[39m lista\n",
      "\u001b[1;31mValueError\u001b[0m: Debe ser una lista de numeros enteros!"
     ]
    }
   ],
   "source": [
    "g=[1,2,3,'g']\n",
    "\n",
    "gg = Funm(g)"
   ]
  },
  {
   "attachments": {},
   "cell_type": "markdown",
   "metadata": {},
   "source": [
    "6) Agregar casos de pruebas para el método verifica_primos() realizando el cambio en la clase, para que devuelva una lista de True o False en función de que el elemento en la posisicón sea o no primo"
   ]
  },
  {
   "cell_type": "code",
   "execution_count": 205,
   "metadata": {},
   "outputs": [],
   "source": [
    "class Prueba2(unittest.TestCase):\n",
    "\n",
    "    def test_primos(self):\n",
    "\n",
    "        n=Funm([1,2,3,4,5,6])\n",
    "        m=n.ver_primo_l()\n",
    "\n",
    "        res = [True,True,True,False,True,False]\n",
    "\n",
    "        self.assertEqual(m,res)\n",
    "\n",
    "    def creacion_correcta(self):\n",
    "\n",
    "        '''Revisa creacion correcta'''\n",
    "        \n",
    "        l=[1,2,3,4]\n",
    "\n",
    "        res=Funm(l)\n",
    "\n",
    "        self.assertEqual(res.lista,l)\n",
    "\n",
    "    def creacion_incorrecta(self):\n",
    "\n",
    "        '''Revisa creacion incorrecta'''\n",
    "\n",
    "        l=[1,2,'a',3]\n",
    "\n",
    "        self.assertRaises(ValueError,Funm(l),l)\n",
    "      \n",
    "    def p_val_mod(self):\n",
    "        \n",
    "        '''Revisa valores modales'''\n",
    "        \n",
    "        l = [1,2,2,3,4,2]\n",
    "        m = Funm(l)\n",
    "        res = [2,3]\n",
    "\n",
    "        vl,md=m.val_modal()\n",
    "\n",
    "        self.assertEqual([vl,md],res)\n",
    "\n"
   ]
  },
  {
   "cell_type": "code",
   "execution_count": 201,
   "metadata": {},
   "outputs": [
    {
     "name": "stdout",
     "output_type": "stream",
     "text": [
      "Numeros primos:\n",
      "1  es un numero primo\n",
      "2  es un numero primo\n",
      "3  es un numero primo\n",
      "4  no es un numero primo\n",
      "5  es un numero primo\n",
      "6  no es un numero primo\n",
      "[True, True, True, False, True, False]\n"
     ]
    },
    {
     "data": {
      "text/plain": [
       "True"
      ]
     },
     "execution_count": 201,
     "metadata": {},
     "output_type": "execute_result"
    }
   ],
   "source": [
    "m=Funm([1,2,3,4,5,6])\n",
    "n=m.ver_primo_l()\n",
    "res = [True,True,True,False,True,False]\n",
    "\n",
    "print(n)\n",
    "n==res"
   ]
  },
  {
   "attachments": {},
   "cell_type": "markdown",
   "metadata": {},
   "source": [
    "7) Agregar casos de pruebas para el método conversion_grados()"
   ]
  },
  {
   "cell_type": "code",
   "execution_count": 186,
   "metadata": {},
   "outputs": [],
   "source": [
    "class Prueba3(unittest.TestCase):\n",
    "\n",
    "    def test_conv_temp(self):\n",
    "\n",
    "        l=[0,10,20,30]\n",
    "        m = Funm(l)\n",
    "\n",
    "        tf=m.conv_temp('C','K')\n",
    "        res=[273.15,283.15,293.15,303.15]\n",
    "\n",
    "        self.assertEqual(tf,res)\n",
    "        "
   ]
  },
  {
   "cell_type": "code",
   "execution_count": 207,
   "metadata": {},
   "outputs": [
    {
     "data": {
      "text/plain": [
       "<module 'funm' from 'c:\\\\Users\\\\ASUS\\\\Desktop\\\\Python-Prep\\\\M09_errorhandling\\\\funm.py'>"
      ]
     },
     "execution_count": 207,
     "metadata": {},
     "output_type": "execute_result"
    }
   ],
   "source": [
    "import importlib\n",
    "from funm import *\n",
    "#import funm\n",
    "importlib.reload(funm)"
   ]
  },
  {
   "cell_type": "code",
   "execution_count": 187,
   "metadata": {},
   "outputs": [
    {
     "name": "stderr",
     "output_type": "stream",
     "text": [
      "test_conv_temp (__main__.Prueba3.test_conv_temp) ... ok\n",
      "test_fact (__main__.Prueba4.test_fact) ... ok\n",
      "\n",
      "----------------------------------------------------------------------\n",
      "Ran 2 tests in 0.007s\n",
      "\n",
      "OK\n"
     ]
    },
    {
     "name": "stdout",
     "output_type": "stream",
     "text": [
      "Conversion de temperatura:\n",
      "0  grados  C  son  273.15  grados  K  !\n",
      "10  grados  C  son  283.15  grados  K  !\n",
      "20  grados  C  son  293.15  grados  K  !\n",
      "30  grados  C  son  303.15  grados  K  !\n",
      "Factoriales:\n",
      "El factorial de  1  es:  1\n",
      "El factorial de  2  es:  2\n",
      "El factorial de  3  es:  6\n",
      "El factorial de  4  es:  24\n",
      "El factorial de  5  es:  120\n"
     ]
    },
    {
     "data": {
      "text/plain": [
       "<unittest.main.TestProgram at 0x28a40391010>"
      ]
     },
     "execution_count": 187,
     "metadata": {},
     "output_type": "execute_result"
    }
   ],
   "source": [
    "unittest.main(argv=[''], verbosity=2, exit=False)\n",
    "#test_cov_temp(__main__.Prueba3)"
   ]
  },
  {
   "cell_type": "code",
   "execution_count": 166,
   "metadata": {},
   "outputs": [
    {
     "name": "stdout",
     "output_type": "stream",
     "text": [
      "Conversion de temperatura:\n",
      "0  grados  C  son  273.15  grados  K  !\n",
      "10  grados  C  son  283.15  grados  K  !\n",
      "20  grados  C  son  293.15  grados  K  !\n",
      "30  grados  C  son  303.15  grados  K  !\n",
      "[273.15, 283.15, 293.15, 303.15]\n"
     ]
    },
    {
     "data": {
      "text/plain": [
       "True"
      ]
     },
     "execution_count": 166,
     "metadata": {},
     "output_type": "execute_result"
    }
   ],
   "source": [
    "l=[0,10,20,30]\n",
    "m = Funm(l)\n",
    "\n",
    "tf=m.conv_temp('C','K')\n",
    "res=[273.15,283.15,293.15,303.15]\n",
    "\n",
    "print(tf)\n",
    "tf==res"
   ]
  },
  {
   "attachments": {},
   "cell_type": "markdown",
   "metadata": {},
   "source": [
    "8) Agregar casos de pruebas para el método factorial()"
   ]
  },
  {
   "cell_type": "code",
   "execution_count": 181,
   "metadata": {},
   "outputs": [],
   "source": [
    "class Prueba4(unittest.TestCase):\n",
    "\n",
    "    def test_fact(self):\n",
    "        \n",
    "        l=[1,2,3,4,5]\n",
    "        r=[1,2,6,24,120]\n",
    "        \n",
    "        ee=Funm(l)\n",
    "        res=ee.facto_l()\n",
    "\n",
    "        self.assertEqual(res,r)\n",
    "\n"
   ]
  },
  {
   "cell_type": "code",
   "execution_count": 188,
   "metadata": {},
   "outputs": [
    {
     "name": "stderr",
     "output_type": "stream",
     "text": [
      "test_conv_temp (__main__.Prueba3.test_conv_temp) ... ok\n",
      "test_fact (__main__.Prueba4.test_fact) ... ok\n",
      "\n",
      "----------------------------------------------------------------------\n",
      "Ran 2 tests in 0.008s\n",
      "\n",
      "OK\n"
     ]
    },
    {
     "name": "stdout",
     "output_type": "stream",
     "text": [
      "Conversion de temperatura:\n",
      "0  grados  C  son  273.15  grados  K  !\n",
      "10  grados  C  son  283.15  grados  K  !\n",
      "20  grados  C  son  293.15  grados  K  !\n",
      "30  grados  C  son  303.15  grados  K  !\n",
      "Factoriales:\n",
      "El factorial de  1  es:  1\n",
      "El factorial de  2  es:  2\n",
      "El factorial de  3  es:  6\n",
      "El factorial de  4  es:  24\n",
      "El factorial de  5  es:  120\n"
     ]
    },
    {
     "ename": "NameError",
     "evalue": "name 'test_fact' is not defined",
     "output_type": "error",
     "traceback": [
      "\u001b[1;31m---------------------------------------------------------------------------\u001b[0m",
      "\u001b[1;31mNameError\u001b[0m                                 Traceback (most recent call last)",
      "Cell \u001b[1;32mIn[188], line 3\u001b[0m\n\u001b[0;32m      1\u001b[0m unittest\u001b[38;5;241m.\u001b[39mmain(argv\u001b[38;5;241m=\u001b[39m[\u001b[38;5;124m'\u001b[39m\u001b[38;5;124m'\u001b[39m],verbosity\u001b[38;5;241m=\u001b[39m\u001b[38;5;241m2\u001b[39m,exit\u001b[38;5;241m=\u001b[39m\u001b[38;5;28;01mFalse\u001b[39;00m)\n\u001b[1;32m----> 3\u001b[0m \u001b[43mtest_fact\u001b[49m(__main__\u001b[38;5;241m.\u001b[39mPrueba4)\n",
      "\u001b[1;31mNameError\u001b[0m: name 'test_fact' is not defined"
     ]
    }
   ],
   "source": [
    "unittest.main(argv=[''],verbosity=2,exit=False)\n",
    "\n",
    "\n",
    "test_cov_temp(__main__.Prueba3)\n",
    "test_fact(__main__.Prueba4)"
   ]
  },
  {
   "cell_type": "code",
   "execution_count": 180,
   "metadata": {},
   "outputs": [
    {
     "name": "stdout",
     "output_type": "stream",
     "text": [
      "Factoriales:\n",
      "El factorial de  1  es:  1\n",
      "El factorial de  2  es:  2\n",
      "El factorial de  3  es:  6\n",
      "El factorial de  4  es:  24\n",
      "El factorial de  5  es:  120\n",
      "[1, 2, 6, 24, 120]\n"
     ]
    },
    {
     "data": {
      "text/plain": [
       "True"
      ]
     },
     "execution_count": 180,
     "metadata": {},
     "output_type": "execute_result"
    }
   ],
   "source": [
    "l=[1,2,3,4,5]\n",
    "ee=Funm(l)\n",
    "\n",
    "ss=ee.facto_l()\n",
    "print(ss)\n",
    "\n",
    "ss==[1,2,6,24,120]"
   ]
  },
  {
   "cell_type": "code",
   "execution_count": 215,
   "metadata": {},
   "outputs": [
    {
     "name": "stderr",
     "output_type": "stream",
     "text": [
      "test_primos (__main__.Prueba2.test_primos) ... ok\n",
      "test_conv_temp (__main__.Prueba3.test_conv_temp) ... ok\n",
      "test_fact (__main__.Prueba4.test_fact) ... ok\n",
      "\n",
      "----------------------------------------------------------------------\n",
      "Ran 3 tests in 0.011s\n",
      "\n",
      "OK\n"
     ]
    },
    {
     "name": "stdout",
     "output_type": "stream",
     "text": [
      "Numeros primos:\n",
      "1  es un numero primo\n",
      "2  es un numero primo\n",
      "3  es un numero primo\n",
      "4  no es un numero primo\n",
      "5  es un numero primo\n",
      "6  no es un numero primo\n",
      "Conversion de temperatura:\n",
      "0  grados  C  son  273.15  grados  K  !\n",
      "10  grados  C  son  283.15  grados  K  !\n",
      "20  grados  C  son  293.15  grados  K  !\n",
      "30  grados  C  son  303.15  grados  K  !\n",
      "Factoriales:\n",
      "El factorial de  1  es...  1\n",
      "El factorial de  2  es...  2\n",
      "El factorial de  3  es...  6\n",
      "El factorial de  4  es...  24\n",
      "El factorial de  5  es...  120\n"
     ]
    },
    {
     "ename": "NameError",
     "evalue": "name 'creacion_correcta' is not defined",
     "output_type": "error",
     "traceback": [
      "\u001b[1;31m---------------------------------------------------------------------------\u001b[0m",
      "\u001b[1;31mNameError\u001b[0m                                 Traceback (most recent call last)",
      "Cell \u001b[1;32mIn[215], line 3\u001b[0m\n\u001b[0;32m      1\u001b[0m unittest\u001b[38;5;241m.\u001b[39mmain(argv\u001b[38;5;241m=\u001b[39m[\u001b[38;5;124m'\u001b[39m\u001b[38;5;124m'\u001b[39m], verbosity\u001b[38;5;241m=\u001b[39m\u001b[38;5;241m2\u001b[39m, exit\u001b[38;5;241m=\u001b[39m\u001b[38;5;28;01mFalse\u001b[39;00m)\n\u001b[1;32m----> 3\u001b[0m \u001b[43mcreacion_correcta\u001b[49m(__main__\u001b[38;5;241m.\u001b[39mPrueba)\n\u001b[0;32m      4\u001b[0m creacion_incorrecta(__main__\u001b[38;5;241m.\u001b[39mPrueba)\n\u001b[0;32m      5\u001b[0m p_val_mod(__main__\u001b[38;5;241m.\u001b[39mPrueba)\n",
      "\u001b[1;31mNameError\u001b[0m: name 'creacion_correcta' is not defined"
     ]
    }
   ],
   "source": [
    "unittest.main(argv=[''], verbosity=2, exit=False)\n",
    "\n",
    "creacion_correcta(__main__.Prueba)\n",
    "creacion_incorrecta(__main__.Prueba)\n",
    "p_val_mod(__main__.Prueba)\n",
    "test_primos(__main__.Prueba2)\n",
    "test_cov_temp(__main__.Prueba3)\n",
    "test_fact(__main__.Prueba4)"
   ]
  }
 ],
 "metadata": {
  "interpreter": {
   "hash": "c85384e4cb51c8b72350f3a8712cc8351fdc3955e32a27f9b60c6242ab125f01"
  },
  "kernelspec": {
   "display_name": "Python 3 (ipykernel)",
   "language": "python",
   "name": "python3"
  },
  "language_info": {
   "codemirror_mode": {
    "name": "ipython",
    "version": 3
   },
   "file_extension": ".py",
   "mimetype": "text/x-python",
   "name": "python",
   "nbconvert_exporter": "python",
   "pygments_lexer": "ipython3",
   "version": "3.12.4"
  }
 },
 "nbformat": 4,
 "nbformat_minor": 4
}
